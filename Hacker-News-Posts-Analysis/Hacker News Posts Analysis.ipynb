{
 "cells": [
  {
   "cell_type": "markdown",
   "metadata": {},
   "source": [
    "# Exploring Hacker News Posts\n",
    "\n",
    "In this project, we'll work with a data set of submissions to popular technology site [Hacker News](https://news.ycombinator.com/).\n",
    "\n",
    "Hacker news is a site started by the startup incubator [Y Combinator](https://www.ycombinator.com/), where user-submitted stories (known as 'posts') are voted and commented upon, similar to reddit. Hacker News is extremely popular in technology and startup circles, and posts that make it to the top of Hacker News' listings can get hundreds of thousands of visitors as a result.\n",
    "\n",
    "Our [data set](https://www.kaggle.com/hacker-news/hacker-news-posts) has been reduced from almost 300,000 rows to approximately 20,000 rows by removing all submissions that did not receive any comments, and then randomly sampling from the remaining submissions.\n",
    "\n",
    "We're specifically interested in posts whose titles begin with either 'Ask HN' or 'Show HN'. Users submit 'Ask HN' posts to ask the Hacker News community a specific question. Likewise, users submit 'Show HN' posts to show the Hacker News community a project, product, or just generally something interesting.\n",
    "\n",
    "We'll compare these two types of posts to determine the following:\n",
    "\n",
    "- Do Ask HN or Show HN posts receive more comments on average?\n",
    "- Do posts created at a certain time receive more comments on average?\n",
    "- Do Ask HN or Show HN posts receive more points on average?\n",
    "- Do posts created at a certain time receive more points on average?\n",
    "\n",
    "### Summary of Results\n",
    "\n",
    "After analyzing the data, we reached the conclusion that Hacker News 'Ask' posts get more comments than 'Show' posts, whereas 'Show' posts get more points than 'Ask' posts. Authors looking to ask a question and get many responses are better off posting between 12p.m. and 4p.m. EST. On the other hand, Hacker News authors that are looking to share one of their creations and get many views are better off posting between 11a.m. and 2p.m. EST.\n",
    "\n",
    "For more details, please refer to the the full analysis below."
   ]
  },
  {
   "cell_type": "markdown",
   "metadata": {},
   "source": [
    "## Reading in the Data"
   ]
  },
  {
   "cell_type": "code",
   "execution_count": 1,
   "metadata": {},
   "outputs": [
    {
     "name": "stdout",
     "output_type": "stream",
     "text": [
      "[['id', 'title', 'url', 'num_points', 'num_comments', 'author', 'created_at'], ['12579008', 'You have two days to comment if you want stem cells to be classified as your own', 'http://www.regulations.gov/document?D=FDA-2015-D-3719-0018', '1', '0', 'altstar', '9/26/2016 3:26'], ['12579005', 'SQLAR  the SQLite Archiver', 'https://www.sqlite.org/sqlar/doc/trunk/README.md', '1', '0', 'blacksqr', '9/26/2016 3:24'], ['12578997', 'What if we just printed a flatscreen television on the side of our boxes?', 'https://medium.com/vanmoof/our-secrets-out-f21c1f03fdc8#.ietxmez43', '1', '0', 'pavel_lishin', '9/26/2016 3:19']]\n"
     ]
    }
   ],
   "source": [
    "# Read in the data\n",
    "import csv\n",
    "opened_file = open('HN_posts_year_to_Sep_26_2016.csv')\n",
    "read_file = csv.reader(opened_file)\n",
    "hn = list(read_file)\n",
    "\n",
    "# Quick exploration of the data\n",
    "print(hn[:4])"
   ]
  },
  {
   "cell_type": "markdown",
   "metadata": {},
   "source": [
    "## Removing Headers\n",
    "\n",
    "Notice that the first list in the inner lists contains the column headers and the lists after contain the data for one row. In order to analyze our data, we need to first remove the row containing the column headers."
   ]
  },
  {
   "cell_type": "code",
   "execution_count": 2,
   "metadata": {},
   "outputs": [
    {
     "name": "stdout",
     "output_type": "stream",
     "text": [
      "['id', 'title', 'url', 'num_points', 'num_comments', 'author', 'created_at'] \n",
      " \n",
      " [['12579008', 'You have two days to comment if you want stem cells to be classified as your own', 'http://www.regulations.gov/document?D=FDA-2015-D-3719-0018', '1', '0', 'altstar', '9/26/2016 3:26'], ['12579005', 'SQLAR  the SQLite Archiver', 'https://www.sqlite.org/sqlar/doc/trunk/README.md', '1', '0', 'blacksqr', '9/26/2016 3:24'], ['12578997', 'What if we just printed a flatscreen television on the side of our boxes?', 'https://medium.com/vanmoof/our-secrets-out-f21c1f03fdc8#.ietxmez43', '1', '0', 'pavel_lishin', '9/26/2016 3:19'], ['12578989', 'algorithmic music', 'http://cacm.acm.org/magazines/2011/7/109891-algorithmic-composition/fulltext', '1', '0', 'poindontcare', '9/26/2016 3:16']]\n"
     ]
    }
   ],
   "source": [
    "headers = hn[0]\n",
    "\n",
    "del hn[0]\n",
    "\n",
    "print(headers, '\\n', '\\n', hn[:4]) # Exploring the modified dataset"
   ]
  },
  {
   "cell_type": "markdown",
   "metadata": {},
   "source": [
    "## Filtering our Data\n",
    "\n",
    "Now that we removed the headers from hn, we're ready to filter our data. Since we're only concerned with posts whose titles begin with 'Ask HN' or 'Show HN', we'll create new lists of lists containing just the data for those titles.\n",
    "\n",
    "To find the posts that begin with either Ask HN or Show HN, we'll use the string method `startswith`. If we wish to control for case, we can use the `lower` method which returns a lowercase version of the starting string."
   ]
  },
  {
   "cell_type": "code",
   "execution_count": 3,
   "metadata": {},
   "outputs": [
    {
     "name": "stdout",
     "output_type": "stream",
     "text": [
      "['12578908', 'Ask HN: What TLD do you use for local development?', '', '4', '7', 'Sevrene', '9/26/2016 2:53'] ['12578522', 'Ask HN: How do you pass on your work when you die?', '', '6', '3', 'PascLeRasc', '9/26/2016 1:17'] ['12577908', 'Ask HN: How a DNS problem can be limited to a geographic region?', '', '1', '0', 'kuon', '9/25/2016 22:57'] \n",
      " ['12578335', 'Show HN: Finding puns computationally', 'http://puns.samueltaylor.org/', '2', '0', 'saamm', '9/26/2016 0:36'] ['12578182', 'Show HN: A simple library for complicated animations', 'https://christinecha.github.io/choreographer-js/', '1', '0', 'christinecha', '9/26/2016 0:01'] ['12578098', 'Show HN: WebGL visualization of DNA sequences', 'http://grondilu.github.io/dna.html', '1', '0', 'grondilu', '9/25/2016 23:44'] \n",
      " ['12579008', 'You have two days to comment if you want stem cells to be classified as your own', 'http://www.regulations.gov/document?D=FDA-2015-D-3719-0018', '1', '0', 'altstar', '9/26/2016 3:26'] ['12579005', 'SQLAR  the SQLite Archiver', 'https://www.sqlite.org/sqlar/doc/trunk/README.md', '1', '0', 'blacksqr', '9/26/2016 3:24'] ['12578997', 'What if we just printed a flatscreen television on the side of our boxes?', 'https://medium.com/vanmoof/our-secrets-out-f21c1f03fdc8#.ietxmez43', '1', '0', 'pavel_lishin', '9/26/2016 3:19'] \n",
      "\n",
      "\n",
      " Number of ask posts: 9139 \n",
      " Number of show posts: 10158 \n",
      " Number of other posts: 273822\n"
     ]
    }
   ],
   "source": [
    "ask_posts = []\n",
    "show_posts = []\n",
    "other_posts = []\n",
    "\n",
    "for row in hn:\n",
    "    title = row[1]\n",
    "    if title.lower().startswith('ask hn'): # Looking for the titles that belong to the 'Ask HN' category\n",
    "        ask_posts.append(row)\n",
    "    elif title.lower().startswith('show hn'): # Looking for the titles that belong to the 'Show HN' category\n",
    "        show_posts.append(row)\n",
    "    else:\n",
    "        other_posts.append(row) # All other posts will be added to a different category\n",
    "  \n",
    "# Exploring the filtered dataset \n",
    "print(*ask_posts[:3], '\\n', \n",
    "      *show_posts[:3], '\\n', \n",
    "      *other_posts[:3], '\\n') \n",
    "\n",
    "# Checking the number of posts in each category\n",
    "print('\\n Number of ask posts:',len(ask_posts), '\\n Number of show posts:', len(show_posts), '\\n Number of other posts:', len(other_posts))\n"
   ]
  },
  {
   "cell_type": "markdown",
   "metadata": {},
   "source": [
    "## Analyzing Number of Comments\n",
    "\n",
    "We will now compute the average number of comments for ask and show posts to determine which category is more popular."
   ]
  },
  {
   "cell_type": "code",
   "execution_count": 4,
   "metadata": {},
   "outputs": [
    {
     "name": "stdout",
     "output_type": "stream",
     "text": [
      "\n",
      " The average number of comments on 'Ask' posts is: 10.39 \n",
      " The average number of comments on 'Show' posts is: 4.89\n"
     ]
    }
   ],
   "source": [
    "num_comment_ask = 0\n",
    "num_comment_show = 0\n",
    "        \n",
    "for row in ask_posts:\n",
    "    num_comment_ask += int(row[4])\n",
    "    \n",
    "for row in show_posts:\n",
    "    num_comment_show += int(row[4])\n",
    "\n",
    "avg_comment_ask = round(num_comment_ask/9138, 2)\n",
    "avg_comment_show = round(num_comment_show/10158, 2)\n",
    "\n",
    "print(\"\\n The average number of comments on 'Ask' posts is:\", avg_comment_ask, \"\\n The average number of comments on 'Show' posts is:\", avg_comment_show)\n",
    "\n"
   ]
  },
  {
   "cell_type": "markdown",
   "metadata": {},
   "source": [
    "On average, ask posts receive more comments than show posts. Since ask posts are more likely to receive comments, we'll focus the first portion of our analysis just on these posts.\n",
    "\n",
    "## Analyzing 'Ask' Posts \n",
    "\n",
    "Next, we'll determine if ask posts created at a certain time are more likely to attract comments. We'll use the following steps to perform this analysis:\n",
    "\n",
    "1. Calculate the amount of ask posts created in each hour of the day, along with the number of comments received.\n",
    "2. Calculate the average number of comments ask posts receive by hour created.\n",
    "\n",
    "We will tackle this step by using the `datetime` module to work with the data in the `created_at` column."
   ]
  },
  {
   "cell_type": "code",
   "execution_count": 5,
   "metadata": {},
   "outputs": [],
   "source": [
    "import datetime as dt\n",
    "\n",
    "result_list = []\n",
    "\n",
    "for row in ask_posts:\n",
    "    result_list.append([row[6], int(row[4])])\n",
    "    \n",
    "counts_by_hour_ask = {}\n",
    "comments_by_hour = {}\n",
    "\n",
    "for row in result_list:\n",
    "    row[0] = dt.datetime.strptime(row[0], '%m/%d/%Y %H:%M')\n",
    "    hour = dt.datetime.strftime(row[0], '%H')\n",
    "    if hour not in counts_by_hour_ask:\n",
    "        counts_by_hour_ask[hour] = 1\n",
    "        comments_by_hour[hour] = row[1]\n",
    "    else:\n",
    "        counts_by_hour_ask[hour] += 1\n",
    "        comments_by_hour[hour] += row[1]\n",
    "        "
   ]
  },
  {
   "cell_type": "markdown",
   "metadata": {},
   "source": [
    "Here, we have created two dictionaries:\n",
    "\n",
    "- `counts_by_hour_ask`: contains the number of ask posts created during each hour of the day\n",
    "- `comments_by_hour`: contains the corresponding number of comments ask posts created at each hour received\n",
    "\n",
    "Next, we'll use these two dictionaries to calculate the average number of comments for posts created during each hour of the day."
   ]
  },
  {
   "cell_type": "code",
   "execution_count": 6,
   "metadata": {},
   "outputs": [],
   "source": [
    "avg_by_hour_ask_comm = []\n",
    "\n",
    "for row in comments_by_hour:\n",
    "    avg_by_hour_ask_comm.append([row, round(comments_by_hour[row]/counts_by_hour_ask[row], 2)])\n",
    "    \n",
    "    "
   ]
  },
  {
   "cell_type": "code",
   "execution_count": 7,
   "metadata": {},
   "outputs": [
    {
     "name": "stdout",
     "output_type": "stream",
     "text": [
      "['02', 11.14]\n",
      "['01', 7.41]\n",
      "['22', 8.8]\n",
      "['21', 8.69]\n",
      "['19', 7.16]\n",
      "['17', 9.45]\n",
      "['15', 28.68]\n",
      "['14', 9.69]\n",
      "['13', 16.32]\n",
      "['11', 8.96]\n",
      "['10', 10.68]\n",
      "['09', 6.65]\n",
      "['07', 7.01]\n",
      "['03', 7.95]\n",
      "['23', 6.7]\n",
      "['20', 8.75]\n",
      "['16', 7.71]\n",
      "['08', 9.19]\n",
      "['00', 7.56]\n",
      "['18', 7.94]\n",
      "['12', 12.38]\n",
      "['04', 9.71]\n",
      "['06', 6.78]\n",
      "['05', 8.79]\n"
     ]
    }
   ],
   "source": [
    "print(*avg_by_hour_ask_comm, sep = '\\n')"
   ]
  },
  {
   "cell_type": "markdown",
   "metadata": {},
   "source": [
    "Although we now have the results we need, this format makes it hard to identify the hours with the highest values. Let's continue by sorting the list of lists and printing the five highest values in a format that's easier to read."
   ]
  },
  {
   "cell_type": "code",
   "execution_count": 8,
   "metadata": {},
   "outputs": [
    {
     "name": "stdout",
     "output_type": "stream",
     "text": [
      "[11.14, '02']\n",
      "[7.41, '01']\n",
      "[8.8, '22']\n",
      "[8.69, '21']\n",
      "[7.16, '19']\n",
      "[9.45, '17']\n",
      "[28.68, '15']\n",
      "[9.69, '14']\n",
      "[16.32, '13']\n",
      "[8.96, '11']\n",
      "[10.68, '10']\n",
      "[6.65, '09']\n",
      "[7.01, '07']\n",
      "[7.95, '03']\n",
      "[6.7, '23']\n",
      "[8.75, '20']\n",
      "[7.71, '16']\n",
      "[9.19, '08']\n",
      "[7.56, '00']\n",
      "[7.94, '18']\n",
      "[12.38, '12']\n",
      "[9.71, '04']\n",
      "[6.78, '06']\n",
      "[8.79, '05']\n"
     ]
    }
   ],
   "source": [
    "swap_avg_by_hour = []\n",
    "\n",
    "for row in avg_by_hour_ask_comm:\n",
    "    swap_avg_by_hour.append([row[1], row[0]])\n",
    "\n",
    "print(*swap_avg_by_hour, sep = '\\n')"
   ]
  },
  {
   "cell_type": "markdown",
   "metadata": {},
   "source": [
    "We will now sort this new list in descending order:"
   ]
  },
  {
   "cell_type": "code",
   "execution_count": 9,
   "metadata": {},
   "outputs": [
    {
     "name": "stdout",
     "output_type": "stream",
     "text": [
      "[28.68, '15']\n",
      "[16.32, '13']\n",
      "[12.38, '12']\n",
      "[11.14, '02']\n",
      "[10.68, '10']\n",
      "[9.71, '04']\n",
      "[9.69, '14']\n",
      "[9.45, '17']\n",
      "[9.19, '08']\n",
      "[8.96, '11']\n",
      "[8.8, '22']\n",
      "[8.79, '05']\n",
      "[8.75, '20']\n",
      "[8.69, '21']\n",
      "[7.95, '03']\n",
      "[7.94, '18']\n",
      "[7.71, '16']\n",
      "[7.56, '00']\n",
      "[7.41, '01']\n",
      "[7.16, '19']\n",
      "[7.01, '07']\n",
      "[6.78, '06']\n",
      "[6.7, '23']\n",
      "[6.65, '09']\n"
     ]
    }
   ],
   "source": [
    "sorted_swap_ask = sorted(swap_avg_by_hour, reverse = True)\n",
    "\n",
    "print(*sorted_swap_ask, sep = '\\n')"
   ]
  },
  {
   "cell_type": "code",
   "execution_count": 10,
   "metadata": {},
   "outputs": [
    {
     "name": "stdout",
     "output_type": "stream",
     "text": [
      "Top 5 Hours for Ask Posts Comments:\n",
      "15:00: 28.68 average comments per post\n",
      "13:00: 16.32 average comments per post\n",
      "12:00: 12.38 average comments per post\n",
      "02:00: 11.14 average comments per post\n"
     ]
    }
   ],
   "source": [
    "print('Top 5 Hours for Ask Posts Comments:')\n",
    "\n",
    "import datetime as dt\n",
    "\n",
    "for row in sorted_swap_ask[:4]:\n",
    "    correct_time = dt.datetime.strptime(row[1], '%H')\n",
    "    correct_time = correct_time.strftime('%H:%M')\n",
    "    print(\"{time}: {number} average comments per post\".format(time = correct_time, number = row[0]))\n"
   ]
  },
  {
   "cell_type": "markdown",
   "metadata": {},
   "source": [
    "We notice that the most commented posts are published between 12p.m. and 4p.m. EST (the 3p.m.-4p.m. timeslot being the most popular of all). As an author, if we are looking to publish an ask post on Hacker News and get a higher chance of receiving comments, then this is the timeslot during which we should aim to publish."
   ]
  },
  {
   "cell_type": "markdown",
   "metadata": {},
   "source": [
    "## Analyzing Number of Points\n",
    "\n",
    "We will now compute the average number of points for ask and show posts to determine which category is most upvoted."
   ]
  },
  {
   "cell_type": "code",
   "execution_count": 11,
   "metadata": {},
   "outputs": [
    {
     "name": "stdout",
     "output_type": "stream",
     "text": [
      "\n",
      " The average number of points on 'Ask' posts is: 11.31 \n",
      " The average number of points on 'Show' posts is: 14.84\n"
     ]
    }
   ],
   "source": [
    "num_points_ask = 0\n",
    "num_points_show = 0\n",
    "\n",
    "for row in ask_posts:\n",
    "    num_points_ask += int(row[3])\n",
    "    \n",
    "for row in show_posts:\n",
    "    num_points_show += int(row[3])\n",
    "\n",
    "avg_points_ask = round(num_points_ask/9138, 2)\n",
    "avg_points_show = round(num_points_show/10158, 2)\n",
    "\n",
    "print(\"\\n The average number of points on 'Ask' posts is:\", avg_points_ask, \"\\n The average number of points on 'Show' posts is:\", avg_points_show)\n",
    "\n"
   ]
  },
  {
   "cell_type": "markdown",
   "metadata": {},
   "source": [
    "On average, show posts receive more points than ask posts. Since show posts are more likely to receive points, we'll focus the second portion of our analysis just on these posts.\n",
    "\n",
    "## Analyzing 'Show' Posts \n",
    "\n",
    "Next, we'll determine if show posts created at a certain time are more likely to attract points. We'll use the following steps to perform this analysis:\n",
    "\n",
    "1. Calculate the amount of show posts created in each hour of the day, along with the number of points received.\n",
    "2. Calculate the average number of points show posts receive by hour created.\n",
    "\n",
    "We will tackle this step by using the `datetime` module to work with the data in the `created_at` column."
   ]
  },
  {
   "cell_type": "code",
   "execution_count": 12,
   "metadata": {},
   "outputs": [],
   "source": [
    "import datetime as dt\n",
    "\n",
    "result_list = []\n",
    "\n",
    "for row in show_posts:\n",
    "    result_list.append([row[6], int(row[3])])\n",
    "    \n",
    "counts_by_hour_show = {}\n",
    "points_by_hour = {}\n",
    "\n",
    "for row in result_list:\n",
    "    row[0] = dt.datetime.strptime(row[0], '%m/%d/%Y %H:%M')\n",
    "    hour = dt.datetime.strftime(row[0], '%H')\n",
    "    if hour not in points_by_hour:\n",
    "        counts_by_hour_show[hour] = 1\n",
    "        points_by_hour[hour] = row[1]\n",
    "    else:\n",
    "        counts_by_hour_show[hour] += 1\n",
    "        points_by_hour[hour] += row[1]\n",
    "        "
   ]
  },
  {
   "cell_type": "markdown",
   "metadata": {},
   "source": [
    "Here, we have created two dictionaries:\n",
    "\n",
    "- `counts_by_hour_show`: contains the number of show posts created during each hour of the day\n",
    "- `points_by_hour`: contains the corresponding number of points show posts created at each hour received\n",
    "\n",
    "Next, we'll use these two dictionaries to calculate the average number of points for posts created during each hour of the day."
   ]
  },
  {
   "cell_type": "code",
   "execution_count": 13,
   "metadata": {},
   "outputs": [],
   "source": [
    "avg_by_hour_show_points = []\n",
    "\n",
    "for row in points_by_hour:\n",
    "    avg_by_hour_show_points.append([row, round(points_by_hour[row]/counts_by_hour_show[row], 2)])"
   ]
  },
  {
   "cell_type": "code",
   "execution_count": 14,
   "metadata": {},
   "outputs": [
    {
     "name": "stdout",
     "output_type": "stream",
     "text": [
      "['00', 15.55]\n",
      "['23', 15.86]\n",
      "['20', 13.23]\n",
      "['19', 16.06]\n",
      "['18', 15.14]\n",
      "['16', 14.34]\n",
      "['14', 15.09]\n",
      "['10', 13.32]\n",
      "['09', 12.46]\n",
      "['08', 14.68]\n",
      "['06', 15.99]\n",
      "['03', 10.52]\n",
      "['21', 13.93]\n",
      "['17', 13.88]\n",
      "['15', 13.94]\n",
      "['11', 19.26]\n",
      "['07', 14.0]\n",
      "['04', 13.95]\n",
      "['13', 17.02]\n",
      "['12', 20.91]\n",
      "['01', 11.87]\n",
      "['22', 13.33]\n",
      "['02', 13.22]\n",
      "['05', 10.66]\n"
     ]
    }
   ],
   "source": [
    "print(*avg_by_hour_show_points, sep = '\\n')"
   ]
  },
  {
   "cell_type": "markdown",
   "metadata": {},
   "source": [
    "Although we now have the results we need, this format makes it hard to identify the hours with the highest values. Let's continue by sorting the list of lists and printing the five highest values in a format that's easier to read."
   ]
  },
  {
   "cell_type": "code",
   "execution_count": 15,
   "metadata": {},
   "outputs": [
    {
     "name": "stdout",
     "output_type": "stream",
     "text": [
      "[15.55, '00']\n",
      "[15.86, '23']\n",
      "[13.23, '20']\n",
      "[16.06, '19']\n",
      "[15.14, '18']\n",
      "[14.34, '16']\n",
      "[15.09, '14']\n",
      "[13.32, '10']\n",
      "[12.46, '09']\n",
      "[14.68, '08']\n",
      "[15.99, '06']\n",
      "[10.52, '03']\n",
      "[13.93, '21']\n",
      "[13.88, '17']\n",
      "[13.94, '15']\n",
      "[19.26, '11']\n",
      "[14.0, '07']\n",
      "[13.95, '04']\n",
      "[17.02, '13']\n",
      "[20.91, '12']\n",
      "[11.87, '01']\n",
      "[13.33, '22']\n",
      "[13.22, '02']\n",
      "[10.66, '05']\n"
     ]
    }
   ],
   "source": [
    "swap_avg_by_hour_show = []\n",
    "\n",
    "for row in avg_by_hour_show_points:\n",
    "    swap_avg_by_hour_show.append([row[1], row[0]])\n",
    "\n",
    "print(*swap_avg_by_hour_show, sep = '\\n')"
   ]
  },
  {
   "cell_type": "markdown",
   "metadata": {},
   "source": [
    "We will now sort this new list in descending order:"
   ]
  },
  {
   "cell_type": "code",
   "execution_count": 16,
   "metadata": {},
   "outputs": [
    {
     "name": "stdout",
     "output_type": "stream",
     "text": [
      "[20.91, '12']\n",
      "[19.26, '11']\n",
      "[17.02, '13']\n",
      "[16.06, '19']\n",
      "[15.99, '06']\n",
      "[15.86, '23']\n",
      "[15.55, '00']\n",
      "[15.14, '18']\n",
      "[15.09, '14']\n",
      "[14.68, '08']\n",
      "[14.34, '16']\n",
      "[14.0, '07']\n",
      "[13.95, '04']\n",
      "[13.94, '15']\n",
      "[13.93, '21']\n",
      "[13.88, '17']\n",
      "[13.33, '22']\n",
      "[13.32, '10']\n",
      "[13.23, '20']\n",
      "[13.22, '02']\n",
      "[12.46, '09']\n",
      "[11.87, '01']\n",
      "[10.66, '05']\n",
      "[10.52, '03']\n"
     ]
    }
   ],
   "source": [
    "sorted_swap_show = sorted(swap_avg_by_hour_show, reverse = True)\n",
    "\n",
    "print(*sorted_swap_show, sep = '\\n')"
   ]
  },
  {
   "cell_type": "code",
   "execution_count": 17,
   "metadata": {},
   "outputs": [
    {
     "name": "stdout",
     "output_type": "stream",
     "text": [
      "Top 5 Hours for Show Posts Points:\n",
      "12:00: 20.91 average points per post\n",
      "11:00: 19.26 average points per post\n",
      "13:00: 17.02 average points per post\n",
      "19:00: 16.06 average points per post\n"
     ]
    }
   ],
   "source": [
    "print('Top 5 Hours for Show Posts Points:')\n",
    "\n",
    "import datetime as dt\n",
    "\n",
    "for row in sorted_swap_show[:4]:\n",
    "    correct_time = dt.datetime.strptime(row[1], '%H')\n",
    "    correct_time = correct_time.strftime('%H:%M')\n",
    "    print(\"{time}: {number} average points per post\".format(time = correct_time, number = row[0]))\n"
   ]
  },
  {
   "cell_type": "markdown",
   "metadata": {},
   "source": [
    "We notice that the most upvoted posts are published between 11a.m. and 2p.m. EST (the 12p.m.-1p.m. timeslot being the most popular of all). As an author, if we are looking to publish a show post on Hacker News and get a higher chance of receiving points, then this is the timeslot during which we should aim to publish."
   ]
  },
  {
   "cell_type": "markdown",
   "metadata": {},
   "source": [
    "## Comparing with 'Other' Posts\n",
    "\n",
    "Given that there are more than 20 times as many 'other' posts as there are 'ask' posts or 'show' posts on Hacker News, we will finish our analysis by comparing the results obtained so far to the average number of comments and points that the 'other' posts receive."
   ]
  },
  {
   "cell_type": "code",
   "execution_count": 18,
   "metadata": {},
   "outputs": [
    {
     "name": "stdout",
     "output_type": "stream",
     "text": [
      "\n",
      " The average number of comments on 'other' posts is: 6.46\n",
      "\n",
      " The average number of points on 'other' posts is: 11.31\n"
     ]
    }
   ],
   "source": [
    "num_comment_other = 0\n",
    "\n",
    "for row in other_posts:\n",
    "    num_comment_other += int(row[4])\n",
    "\n",
    "avg_comment_other = round(num_comment_other/273822, 2)\n",
    "\n",
    "print(\"\\n The average number of comments on 'other' posts is:\", avg_comment_other)\n",
    "\n",
    "num_points_other = 0\n",
    "\n",
    "for row in other_posts:\n",
    "    num_points_other += int(row[3])\n",
    "\n",
    "avg_points_other = round(num_points_other/273822, 2)\n",
    "\n",
    "print(\"\\n The average number of points on 'other' posts is:\", avg_points_ask)"
   ]
  },
  {
   "cell_type": "markdown",
   "metadata": {},
   "source": [
    "'Other' posts receive a lower amount of comments than 'ask' posts, but receive a higher amount of comments than 'show' posts. On the other hand, they are receiving a higher amount of points than 'ask' posts, but still a lower amount of points than 'show' posts.\n",
    "\n",
    "For the purpose of this project, we will leave out these results from our conclusion as they do not impact our overall findings."
   ]
  },
  {
   "cell_type": "markdown",
   "metadata": {},
   "source": [
    "## Conclusion\n",
    "\n",
    "The goal of this project was to determine several things:\n",
    "- Do Ask HN or Show HN posts receive more comments on average?\n",
    "- Do posts created at a certain time receive more comments on average?\n",
    "- Do Ask HN or Show HN posts receive more points on average?\n",
    "- Do posts created at a certain time receive more points on average? \n",
    "\n",
    "When comparing the 3 types of posts, we can interpret all the numbers analyzed above as respresentative of the number of unique interactions per post, whether looking at the number of comments or the number of points. It is also important to remind ourselves that 'ask' posts receive the highest amount of comments because of their very nature - they are posts made by users that are asking questions to the Hacker News community and expecting answers (comments) in return.\n",
    "\n",
    "Therefore, depending on what an author's goal is, there are several options:\n",
    "- If an author's goal is to ask a question and get many responses, they are better off posting between 12p.m. and 4p.m. EST. This is the publishing timeslot that allows 'ask' posts to get the most comments.\n",
    "- If an author's goal is to share one of their creations and get many views, they are better off posting between 11a.m. and 2p.m. EST. This is the publishing timeslot that allows 'show' posts to get the most points."
   ]
  }
 ],
 "metadata": {
  "kernelspec": {
   "display_name": "Python 3",
   "language": "python",
   "name": "python3"
  },
  "language_info": {
   "codemirror_mode": {
    "name": "ipython",
    "version": 3
   },
   "file_extension": ".py",
   "mimetype": "text/x-python",
   "name": "python",
   "nbconvert_exporter": "python",
   "pygments_lexer": "ipython3",
   "version": "3.7.1"
  }
 },
 "nbformat": 4,
 "nbformat_minor": 2
}
